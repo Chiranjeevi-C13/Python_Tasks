{
  "nbformat": 4,
  "nbformat_minor": 0,
  "metadata": {
    "colab": {
      "provenance": []
    },
    "kernelspec": {
      "name": "python3",
      "display_name": "Python 3"
    },
    "language_info": {
      "name": "python"
    }
  },
  "cells": [
    {
      "cell_type": "markdown",
      "source": [
        "# **Creating or Writing on the new file**\n",
        "\n",
        "\n",
        "\n"
      ],
      "metadata": {
        "id": "F6VfMH_Kiyrt"
      }
    },
    {
      "cell_type": "code",
      "source": [
        "# Create a new file called \"chiru.txt\"\n",
        "with open(\"chiru.txt\", \"w\") as file:\n",
        "    file.write(\"Hello, Good Morning \\nHow are you? \\nHad you brakefast?\")"
      ],
      "metadata": {
        "id": "awW_f8qdgHj4"
      },
      "execution_count": 3,
      "outputs": []
    },
    {
      "cell_type": "markdown",
      "source": [
        "# **Append text into file**"
      ],
      "metadata": {
        "id": "JNRZL7CyjEOD"
      }
    },
    {
      "cell_type": "code",
      "source": [
        "# Create or append to a file called \"chiru.txt\"\n",
        "with open(\"chiru.txt\", \"a\") as file:\n",
        "    file.write(\"\\nDon't ask easy questions.\")"
      ],
      "metadata": {
        "id": "OhnZU2O7hEG-"
      },
      "execution_count": 4,
      "outputs": []
    },
    {
      "cell_type": "markdown",
      "source": [
        "# **Reading the content in the file**"
      ],
      "metadata": {
        "id": "LXrVZbEZjMmh"
      }
    },
    {
      "cell_type": "code",
      "source": [
        "try:\n",
        "    # Open the file in read mode\n",
        "    with open(\"chiru.txt\", \"r\") as file:\n",
        "        content = file.read()\n",
        "        print(\"File Content:\")\n",
        "        print(content)\n",
        "except FileNotFoundError:\n",
        "    print(\"Error: The file 'chiru.txt' does not exist.\")"
      ],
      "metadata": {
        "colab": {
          "base_uri": "https://localhost:8080/"
        },
        "id": "IpHhERqfhS08",
        "outputId": "3c9dbcfe-518f-445e-fa95-6ff54714f948"
      },
      "execution_count": 6,
      "outputs": [
        {
          "output_type": "stream",
          "name": "stdout",
          "text": [
            "File Content:\n",
            "Hello, Good Morning \n",
            "How are you? \n",
            "Had you brakefast?\n",
            "Don't ask easy questions.\n"
          ]
        }
      ]
    },
    {
      "cell_type": "code",
      "source": [
        "with open(\"chiru.txt\", \"r\") as file:\n",
        "    first_line = file.readline()\n",
        "    print(first_line)\n"
      ],
      "metadata": {
        "colab": {
          "base_uri": "https://localhost:8080/"
        },
        "id": "nTO2IR8Llxkw",
        "outputId": "c39c75da-ebc4-4870-94aa-3982c78bce08"
      },
      "execution_count": 18,
      "outputs": [
        {
          "output_type": "stream",
          "name": "stdout",
          "text": [
            "Hello, Good Morning \n",
            "\n"
          ]
        }
      ]
    },
    {
      "cell_type": "markdown",
      "source": [
        "# **Removing of file**"
      ],
      "metadata": {
        "id": "RVkYhpMXpj_d"
      }
    },
    {
      "cell_type": "code",
      "source": [
        "import os\n",
        "os.remove(\"/content/chiru_directory/Hello.txt\")\n",
        "print(\"File removed\")\n"
      ],
      "metadata": {
        "colab": {
          "base_uri": "https://localhost:8080/"
        },
        "id": "WrMxWA0zlfaK",
        "outputId": "3c4e63dd-f740-44d6-c568-5806d59e69f0"
      },
      "execution_count": 16,
      "outputs": [
        {
          "output_type": "stream",
          "name": "stdout",
          "text": [
            "File removed\n"
          ]
        }
      ]
    },
    {
      "cell_type": "markdown",
      "source": [
        "# **Copy a file**"
      ],
      "metadata": {
        "id": "5P5e-RaIpX-J"
      }
    },
    {
      "cell_type": "code",
      "source": [
        "def copy_file(src, dest):\n",
        "    try:\n",
        "        with open(src, \"r\") as source:\n",
        "            content = source.read()\n",
        "        with open(dest, \"w\") as destination:\n",
        "            destination.write(content)\n",
        "        print(\"File copied successfully.\")\n",
        "    except FileNotFoundError:\n",
        "        print(\"Source file not found.\")\n",
        "    except Exception as e:\n",
        "        print(f\"An error occurred: {e}\")\n",
        "\n",
        "# Example usage\n",
        "copy_file(\"chiru.txt\", \"/content/chiru_directory/demo.txt\")\n"
      ],
      "metadata": {
        "colab": {
          "base_uri": "https://localhost:8080/"
        },
        "id": "Fp68D-5wmdw2",
        "outputId": "5adf7b49-dceb-4b07-faf0-b7aed3d9d36d"
      },
      "execution_count": 19,
      "outputs": [
        {
          "output_type": "stream",
          "name": "stdout",
          "text": [
            "File copied successfully.\n"
          ]
        }
      ]
    },
    {
      "cell_type": "code",
      "source": [
        "def find_text_in_file(filename, text):\n",
        "    try:\n",
        "        with open(filename, \"r\") as file:\n",
        "            content = file.read()\n",
        "            if text in content:\n",
        "                print(f\"'{text}' found in {filename}.\")\n",
        "            else:\n",
        "                print(f\"'{text}' not found in {filename}.\")\n",
        "    except FileNotFoundError:\n",
        "        print(f\"{filename} not found.\")\n",
        "    except Exception as e:\n",
        "        print(f\"An error occurred: {e}\")\n",
        "\n",
        "find_text_in_file(\"chiru.txt\", \"Morning\")\n"
      ],
      "metadata": {
        "colab": {
          "base_uri": "https://localhost:8080/"
        },
        "id": "bddPqfD4muQO",
        "outputId": "e746d458-720d-4c1e-c999-790231f4266f"
      },
      "execution_count": 21,
      "outputs": [
        {
          "output_type": "stream",
          "name": "stdout",
          "text": [
            "'Morning' found in chiru.txt.\n"
          ]
        }
      ]
    },
    {
      "cell_type": "code",
      "source": [
        "def count_lines_in_file(filename):\n",
        "    try:\n",
        "        with open(filename, \"r\") as file:\n",
        "            lines = file.readlines()\n",
        "            print(f\"{filename} has {len(lines)} lines.\")\n",
        "    except FileNotFoundError:\n",
        "        print(f\"{filename} not found.\")\n",
        "    except Exception as e:\n",
        "        print(f\"An error occurred: {e}\")\n",
        "\n",
        "count_lines_in_file(\"chiru.txt\")\n"
      ],
      "metadata": {
        "colab": {
          "base_uri": "https://localhost:8080/"
        },
        "id": "a3l39gBVnIgs",
        "outputId": "43bb4d33-2707-4a28-8dad-e6982efd55bf"
      },
      "execution_count": 22,
      "outputs": [
        {
          "output_type": "stream",
          "name": "stdout",
          "text": [
            "chiru.txt has 4 lines.\n"
          ]
        }
      ]
    },
    {
      "cell_type": "code",
      "source": [
        "try:\n",
        "    # Attempt to open a non-existent file\n",
        "    name=\"chira.txt\"\n",
        "    with open(name, \"r\") as file:\n",
        "        print(file.read())\n",
        "except FileNotFoundError:\n",
        "    print(f\"Error: The file {name} was not found.\")\n",
        "except PermissionError:\n",
        "    print(\"Error: You do not have permission to access this file.\")"
      ],
      "metadata": {
        "colab": {
          "base_uri": "https://localhost:8080/"
        },
        "id": "Vta6K9RIhayE",
        "outputId": "38ac2d1e-9375-45a4-a8bc-ca426f4de170"
      },
      "execution_count": 8,
      "outputs": [
        {
          "output_type": "stream",
          "name": "stdout",
          "text": [
            "Error: The file chira.txt was not found.\n"
          ]
        }
      ]
    },
    {
      "cell_type": "markdown",
      "source": [
        "# **Creating of Directory**"
      ],
      "metadata": {
        "id": "Y-n77h8UpsNi"
      }
    },
    {
      "cell_type": "code",
      "source": [
        "import os\n",
        "\n",
        "# Create a new directory called \"chiru_directory\"\n",
        "try:\n",
        "    os.mkdir(\"chiru_directory\")\n",
        "    print(\"Directory 'chiru_directory' created successfully!\")\n",
        "except FileExistsError:\n",
        "    print(\"Error: The directory 'chiru_directory' already exists.\")"
      ],
      "metadata": {
        "colab": {
          "base_uri": "https://localhost:8080/"
        },
        "id": "xzSUO9A_ibPl",
        "outputId": "3b628b03-1e74-4608-f77e-476de5f2124f"
      },
      "execution_count": 9,
      "outputs": [
        {
          "output_type": "stream",
          "name": "stdout",
          "text": [
            "Directory 'chiru_directory' created successfully!\n"
          ]
        }
      ]
    },
    {
      "cell_type": "code",
      "source": [
        "import os\n",
        "\n",
        "# Check if the directory exists\n",
        "if os.path.exists(\"chiru_directory\"):\n",
        "    print(\"Directory 'chiru_directory' exists!\")\n",
        "else:\n",
        "    print(\"Directory 'chiru_directory' does not exist.\")"
      ],
      "metadata": {
        "colab": {
          "base_uri": "https://localhost:8080/"
        },
        "id": "zoLvNJZGidLf",
        "outputId": "f8761b24-75b1-42cb-db15-40b5b645cffa"
      },
      "execution_count": 10,
      "outputs": [
        {
          "output_type": "stream",
          "name": "stdout",
          "text": [
            "Directory 'chiru_directory' exists!\n"
          ]
        }
      ]
    },
    {
      "cell_type": "markdown",
      "source": [
        "# **Changing the Directory**"
      ],
      "metadata": {
        "id": "dTA5CCghpQMm"
      }
    },
    {
      "cell_type": "code",
      "source": [
        "import os\n",
        "\n",
        "# Get the current working directory\n",
        "current_dir = os.getcwd()\n",
        "print(f\"Current Working Directory: {current_dir}\")\n",
        "\n",
        "# Change to the newly created directory\n",
        "os.chdir(\"chiru_directory\")\n",
        "print(f\"Changed to Directory: {os.getcwd()}\")\n",
        "\n",
        "# Move back to the parent directory\n",
        "os.chdir(\"..\")\n",
        "print(f\"Moved Back to Parent Directory: {os.getcwd()}\")"
      ],
      "metadata": {
        "colab": {
          "base_uri": "https://localhost:8080/"
        },
        "id": "itQP6Nm7igZZ",
        "outputId": "d4e9b1d7-5a39-4caf-b96f-8fbeef8cf7f1"
      },
      "execution_count": 11,
      "outputs": [
        {
          "output_type": "stream",
          "name": "stdout",
          "text": [
            "Current Working Directory: /content\n",
            "Changed to Directory: /content/chiru_directory\n",
            "Moved Back to Parent Directory: /content\n"
          ]
        }
      ]
    },
    {
      "cell_type": "markdown",
      "source": [
        "# **List the file and directory**"
      ],
      "metadata": {
        "id": "wzyf0J1WpH3e"
      }
    },
    {
      "cell_type": "code",
      "source": [
        "import os\n",
        "# List all files and directories in the current working directory\n",
        "files_and_dirs = os.listdir(os.getcwd())\n",
        "print(\"Files and Directories in Current Directory:\")\n",
        "for item in files_and_dirs:\n",
        "    print(item)"
      ],
      "metadata": {
        "colab": {
          "base_uri": "https://localhost:8080/"
        },
        "id": "aSmOKd8OjlXv",
        "outputId": "098724d2-df71-41dc-fa3a-87c2ea62e14a"
      },
      "execution_count": 12,
      "outputs": [
        {
          "output_type": "stream",
          "name": "stdout",
          "text": [
            "Files and Directories in Current Directory:\n",
            ".config\n",
            "chiru_directory\n",
            "chiru.txt\n",
            "sample_data\n"
          ]
        }
      ]
    },
    {
      "cell_type": "markdown",
      "source": [
        "# **Removing Directory**"
      ],
      "metadata": {
        "id": "hpcKBekko_Ko"
      }
    },
    {
      "cell_type": "code",
      "source": [
        "import os\n",
        "# Remove the directory \"chiru_directory\"\n",
        "try:\n",
        "    os.rmdir(\"chiru_directory\")\n",
        "    print(\"Directory 'chiru_directory' removed successfully!\")\n",
        "except FileNotFoundError:\n",
        "    print(\"Error: The directory 'chiru_directory' does not exist.\")\n",
        "except OSError:\n",
        "    print(\"Error: The directory 'chiru_directory' is not empty.\")"
      ],
      "metadata": {
        "colab": {
          "base_uri": "https://localhost:8080/"
        },
        "id": "7ffyOH3Jj0Bv",
        "outputId": "1ab0f646-c02d-48d1-80fe-392925c6afd7"
      },
      "execution_count": 13,
      "outputs": [
        {
          "output_type": "stream",
          "name": "stdout",
          "text": [
            "Error: The directory 'chiru_directory' is not empty.\n"
          ]
        }
      ]
    },
    {
      "cell_type": "code",
      "source": [
        "import os\n",
        "from datetime import datetime\n",
        "\n",
        "# Get file size\n",
        "file_size = os.path.getsize(\"chiru.txt\")\n",
        "print(f\"Size of 'chiru.txt': {file_size} bytes\")\n",
        "\n",
        "# Get modification time\n",
        "mod_time = os.path.getmtime(\"chiru.txt\")\n",
        "print(f\"Last modified: {datetime.fromtimestamp(mod_time)}\")"
      ],
      "metadata": {
        "colab": {
          "base_uri": "https://localhost:8080/"
        },
        "id": "BafzQKB7j79v",
        "outputId": "31f7b3e6-221d-42c9-baa1-1868fe8dd949"
      },
      "execution_count": 15,
      "outputs": [
        {
          "output_type": "stream",
          "name": "stdout",
          "text": [
            "Size of 'chiru.txt': 79 bytes\n",
            "Last modified: 2025-02-25 05:11:54.871772\n"
          ]
        }
      ]
    }
  ]
}