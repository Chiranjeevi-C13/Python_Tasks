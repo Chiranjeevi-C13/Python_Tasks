{
  "nbformat": 4,
  "nbformat_minor": 0,
  "metadata": {
    "colab": {
      "provenance": []
    },
    "kernelspec": {
      "name": "python3",
      "display_name": "Python 3"
    },
    "language_info": {
      "name": "python"
    }
  },
  "cells": [
    {
      "cell_type": "markdown",
      "source": [
        "# **1. Write a Python function that takes a list of words and returns a new list with all words that start with a vowel.**\n",
        "\n",
        "---\n",
        "\n"
      ],
      "metadata": {
        "id": "aaGRB6X6vjiP"
      }
    },
    {
      "cell_type": "code",
      "execution_count": 26,
      "metadata": {
        "colab": {
          "base_uri": "https://localhost:8080/"
        },
        "id": "hV9zLuUwvQ9J",
        "outputId": "c13c3ca7-3bc2-4026-d97c-f3b99ec279a0"
      },
      "outputs": [
        {
          "output_type": "stream",
          "name": "stdout",
          "text": [
            "Enter words separated by spaces or commas: hello i'm chiru and how are you?\n",
            "Words starting with a vowel: [\"i'm\", 'and', 'are']\n"
          ]
        }
      ],
      "source": [
        "\"\"\"\n",
        "This program filters words from user input that start with vowels (a, e, i, o, u).\n",
        "The user can enter words separated by spaces or commas. The program processes the input,\n",
        "removes extra spaces, and identifies words that begin with vowels. The filtered words are\n",
        "then displayed as output.\n",
        "\"\"\"\n",
        "\n",
        "def filter_vowel_words(words):\n",
        "    \"\"\"\n",
        "    Filters words that start with vowels (a, e, i, o, u).\n",
        "\n",
        "    Args:\n",
        "        words (list): A list of words to be filtered.\n",
        "\n",
        "    Returns:\n",
        "        list: A list of words that start with vowels.\n",
        "    \"\"\"\n",
        "    vowels = ('a', 'e', 'i', 'o', 'u')\n",
        "    # Filter words that start with a vowel\n",
        "    return [word for word in words if word.lower().startswith(vowels)]\n",
        "\n",
        "# Allow user to input words dynamically\n",
        "user_input = input(\"Enter words separated by spaces or commas: \")\n",
        "\n",
        "# Process the input into a list of words\n",
        "words_list = [word.strip() for word in user_input.replace(',', ' ').split()]\n",
        "\n",
        "# Filter words starting with vowels\n",
        "final_words = filter_vowel_words(words_list)\n",
        "\n",
        "# Print the result\n",
        "print(\"Words starting with a vowel:\", final_words)"
      ]
    },
    {
      "cell_type": "markdown",
      "source": [
        "\n",
        "\n",
        "---\n",
        "\n",
        "\n",
        "# **2. Create a Python program to calculate the factorial of a given number.**\n",
        "\n",
        "---\n",
        "\n"
      ],
      "metadata": {
        "id": "leG_xIjryXqd"
      }
    },
    {
      "cell_type": "markdown",
      "source": [
        "# **Iterative approach**"
      ],
      "metadata": {
        "id": "i5rSl08wyr6X"
      }
    },
    {
      "cell_type": "code",
      "source": [
        "\"\"\"\n",
        "This program calculates the factorial of a non-negative number entered by the user.\n",
        "It uses an iterative approach for integers and the Gamma Function for decimal numbers.\n",
        "If the user enters a negative number or invalid input, appropriate error messages are displayed.\n",
        "\"\"\"\n",
        "\n",
        "import math\n",
        "\n",
        "def factorial(n):\n",
        "    \"\"\"\n",
        "    Calculates the factorial of a non-negative number using an iterative approach for integers\n",
        "    and the Gamma Function for decimal numbers.\n",
        "\n",
        "    Args:\n",
        "        n (float): The number for which the factorial is to be calculated.\n",
        "\n",
        "    Returns:\n",
        "        float: The factorial of the input number if it is non-negative.\n",
        "        str: An error message if the input is negative.\n",
        "    \"\"\"\n",
        "    # Handle negative numbers\n",
        "    if n < 0:\n",
        "        return \"Factorial is not defined for negative numbers.\"\n",
        "\n",
        "    # If the number is an integer, calculate factorial iteratively\n",
        "    if isinstance(n, int) or n.is_integer():\n",
        "        result = 1\n",
        "        for i in range(1, int(n) + 1):\n",
        "            result *= i\n",
        "        return result\n",
        "\n",
        "    # If the number is a decimal, use the Gamma Function\n",
        "    return math.gamma(n + 1)\n",
        "\n",
        "# Allow user to input a number dynamically\n",
        "try:\n",
        "    user_input = float(input(\"Enter a non-negative number (integers or decimals) to calculate its factorial: \").strip())\n",
        "\n",
        "    # Calculate the factorial\n",
        "    factorial_result = factorial(user_input)\n",
        "\n",
        "    # Print the result or error message\n",
        "    if isinstance(factorial_result, str):\n",
        "        print(factorial_result)\n",
        "    else:\n",
        "        print(f\"Factorial of {user_input}: {factorial_result:.6f}\")\n",
        "\n",
        "except ValueError:\n",
        "    print(\"Invalid input. Please enter a valid non-negative number.\")"
      ],
      "metadata": {
        "colab": {
          "base_uri": "https://localhost:8080/"
        },
        "id": "XgveOsIly9zZ",
        "outputId": "72a48757-800b-4f7e-f870-43cbb559b08c"
      },
      "execution_count": 14,
      "outputs": [
        {
          "output_type": "stream",
          "name": "stdout",
          "text": [
            "Enter a non-negative integer to calculate its factorial: 10\n",
            "Iterative Result: 3628800\n"
          ]
        }
      ]
    },
    {
      "cell_type": "markdown",
      "source": [
        "\n",
        "\n",
        "---\n",
        "\n"
      ],
      "metadata": {
        "id": "oj0OfwAECeLS"
      }
    },
    {
      "cell_type": "markdown",
      "source": [
        "# **recursive approach**"
      ],
      "metadata": {
        "id": "mne8YWDzyjyY"
      }
    },
    {
      "cell_type": "code",
      "source": [
        "\"\"\"\n",
        "This program calculates the factorial of a non-negative number entered by the user.\n",
        "It uses recursion for integers and the Gamma Function for decimal numbers.\n",
        "If the user enters a negative number or invalid input, appropriate error messages are displayed.\n",
        "\"\"\"\n",
        "\n",
        "import math\n",
        "\n",
        "def factorial(n):\n",
        "    \"\"\"\n",
        "    Calculates the factorial of a non-negative number using recursion for integers\n",
        "    and the Gamma Function for decimal numbers.\n",
        "\n",
        "    Args:\n",
        "        n (float): The number for which the factorial is to be calculated.\n",
        "\n",
        "    Returns:\n",
        "        float: The factorial of the input number if it is non-negative.\n",
        "        str: An error message if the input is negative.\n",
        "    \"\"\"\n",
        "    # Handle negative numbers\n",
        "    if n < 0:\n",
        "        return \"Factorial is not defined for negative numbers.\"\n",
        "\n",
        "    # If the number is an integer, calculate factorial recursively\n",
        "    if isinstance(n, int) or n.is_integer():\n",
        "        n = int(n)  # Convert to integer for recursion\n",
        "        # Base cases\n",
        "        if n == 0 or n == 1:\n",
        "            return 1\n",
        "        # Recursive case\n",
        "        return n * factorial(n - 1)\n",
        "\n",
        "    # If the number is a decimal, use the Gamma Function\n",
        "    return math.gamma(n + 1)\n",
        "\n",
        "# Allow user to input a number dynamically\n",
        "try:\n",
        "    user_input = float(input(\"Enter a non-negative number (integers or decimals) to calculate its factorial: \").strip())\n",
        "\n",
        "    # Calculate the factorial\n",
        "    factorial_result = factorial(user_input)\n",
        "\n",
        "    # Print the result or error message\n",
        "    if isinstance(factorial_result, str):\n",
        "        print(factorial_result)\n",
        "    else:\n",
        "        print(f\"Factorial of {user_input}: {factorial_result:.6f}\")\n",
        "\n",
        "except ValueError:\n",
        "    print(\"Invalid input. Please enter a valid non-negative number.\")"
      ],
      "metadata": {
        "colab": {
          "base_uri": "https://localhost:8080/"
        },
        "id": "NEDxeKF5y-1v",
        "outputId": "9cb20800-d2ff-4b7b-bf56-f37c166a7fdb"
      },
      "execution_count": 33,
      "outputs": [
        {
          "output_type": "stream",
          "name": "stdout",
          "text": [
            "Enter a non-negative number (integers or decimals) to calculate its factorial: 5.5\n",
            "Factorial of 5.5: 287.885278\n"
          ]
        }
      ]
    },
    {
      "cell_type": "markdown",
      "source": [
        "\n",
        "\n",
        "---\n",
        "\n"
      ],
      "metadata": {
        "id": "uszIXz9JCiz1"
      }
    },
    {
      "cell_type": "markdown",
      "source": [
        "# **3. Write a Python program to create a dictionary of student names and grades, and count the number of students with grades above 90.**"
      ],
      "metadata": {
        "id": "yEhW1RkF0CDD"
      }
    },
    {
      "cell_type": "code",
      "source": [
        "\"\"\"\n",
        "This program identifies students with grades above 90 from a list of student names and grades.\n",
        "The user enters the number of students, followed by each student's name and grade. The program\n",
        "then counts and displays the number of students with grades above 90, along with their details.\n",
        "\"\"\"\n",
        "\n",
        "def count_top_students(grades):\n",
        "    \"\"\"\n",
        "    Identifies students with grades above 90.\n",
        "\n",
        "    Args:\n",
        "        grades (dict): A dictionary where keys are student names (str) and values are grades (int).\n",
        "\n",
        "    Returns:\n",
        "        tuple: A tuple containing:\n",
        "            - The count of students with grades above 90 (int).\n",
        "            - A dictionary of students with grades above 90 (dict).\n",
        "    \"\"\"\n",
        "    toppers = {}\n",
        "    for name, grade in grades.items():\n",
        "        if grade > 90:\n",
        "            toppers[name] = grade\n",
        "    return len(toppers), toppers\n",
        "\n",
        "\n",
        "# Instructions for the user\n",
        "print(\"1. You will first enter the total number of students.\")\n",
        "print(\"2. For each student, you will enter their name (as text) and their grade (as a number).\")\n",
        "# Input validation for the number of students\n",
        "while True:\n",
        "    try:\n",
        "        num_students = int(input(\"Enter the number of students: \"))\n",
        "        if num_students > 0:\n",
        "            break\n",
        "        else:\n",
        "            print(\"Please enter a positive integer for the number of students.\")\n",
        "    except ValueError:\n",
        "        print(\"Invalid input. Please enter a valid integer for the number of students.\")\n",
        "\n",
        "# Allow user to input student data dynamically\n",
        "student_grades = {}\n",
        "for i in range(num_students):\n",
        "    print(f\"\\nEnter details for student {i + 1}:\")\n",
        "    name = input(\"   Enter the name of the student: \").strip()  # Remove extra spaces\n",
        "\n",
        "    # Input validation for the grade\n",
        "    while True:\n",
        "        try:\n",
        "            grade = int(input(\"   Enter the grade of the student (as a number): \"))\n",
        "            if 0 <= grade <= 100:  # Ensure grade is between 0 and 100\n",
        "                break\n",
        "            else:\n",
        "                print(\"Grade must be between 0 and 100. Please try again.\")\n",
        "        except ValueError:\n",
        "            print(\"Invalid input. Please enter a valid integer for the grade.\")\n",
        "\n",
        "    student_grades[name] = grade\n",
        "\n",
        "# Count top students and get their details\n",
        "count, toppers = count_top_students(student_grades)\n",
        "\n",
        "print(f\"\\nNumber of students with grades above 90: {count}\")\n",
        "print(\"Students with grades above 90:\", toppers)\n"
      ],
      "metadata": {
        "colab": {
          "base_uri": "https://localhost:8080/"
        },
        "id": "gST3ont90JYl",
        "outputId": "6ed572b7-79f9-4951-e6f3-860335940f93"
      },
      "execution_count": 15,
      "outputs": [
        {
          "output_type": "stream",
          "name": "stdout",
          "text": [
            "Instructions:\n",
            "1. You will first enter the total number of students.\n",
            "2. For each student, you will enter their name (as text) and their grade (as a number).\n",
            "Enter the number of students: 1\n",
            "\n",
            "Enter details for student 1:\n",
            "   Enter the name of the student: chiru\n",
            "   Enter the grade of the student (as a number): -92\n",
            "Grade must be between 0 and 100. Please try again.\n",
            "   Enter the grade of the student (as a number): 91\n",
            "\n",
            "Number of students with grades above 90: 1\n",
            "Students with grades above 90: {'chiru': 91}\n"
          ]
        }
      ]
    },
    {
      "cell_type": "markdown",
      "source": [
        "\n",
        "\n",
        "---\n",
        "\n",
        "\n",
        "## **4. Write a Python function to determine whether a given string is a palindrome**\n",
        "\n",
        "\n",
        "---\n",
        "\n"
      ],
      "metadata": {
        "id": "UzcRuFzY5Vbw"
      }
    },
    {
      "cell_type": "code",
      "source": [
        "\"\"\"\n",
        "This program checks if a given string is a palindrome. A palindrome is a word, phrase,\n",
        "number, or sequence of characters that reads the same forward and backward (ignoring spaces\n",
        "and capitalization). The user enters a string, and the program determines whether it is a\n",
        "palindrome.\n",
        "\"\"\"\n",
        "\n",
        "def is_palindrome(s):\n",
        "    \"\"\"\n",
        "    Checks if a given string is a palindrome.\n",
        "\n",
        "    Args:\n",
        "        s (str): The input string to check.\n",
        "\n",
        "    Returns:\n",
        "        bool: True if the string is a palindrome, False otherwise.\n",
        "    \"\"\"\n",
        "    # Remove spaces and convert to lowercase\n",
        "    s = s.replace(\" \", \"\").lower()\n",
        "    # Check if the string is the same forwards and backwards\n",
        "    return s == s[::-1]\n",
        "\n",
        "\n",
        "# Allow user to input a string dynamically\n",
        "user_input = input(\"Enter a string: \").strip()\n",
        "\n",
        "# Check if the input string is a palindrome\n",
        "if is_palindrome(user_input):\n",
        "    print(f'\"{user_input}\" is a palindrome.')\n",
        "else:\n",
        "    print(f'\"{user_input}\" is not a palindrome.')"
      ],
      "metadata": {
        "colab": {
          "base_uri": "https://localhost:8080/"
        },
        "id": "EyDA9w5W5Qfw",
        "outputId": "08da6923-a781-447a-f2f4-7c37d6964f91"
      },
      "execution_count": 5,
      "outputs": [
        {
          "output_type": "stream",
          "name": "stdout",
          "text": [
            "Enter a string: chiihc?\n",
            "\"chiihc?\" is not a palindrome.\n"
          ]
        }
      ]
    },
    {
      "cell_type": "markdown",
      "source": [
        "\n",
        "\n",
        "---\n",
        "\n",
        "\n",
        "# **5. Write a Python program that takes a text input and counts the frequency of each word. Display the result in a dictionary format**\n",
        "\n",
        "\n",
        "---\n",
        "\n"
      ],
      "metadata": {
        "id": "M-61Ubn1CPwL"
      }
    },
    {
      "cell_type": "code",
      "source": [
        "\"\"\"\n",
        "This program calculates the frequency of each word in a given text. It removes punctuation,\n",
        "converts all words to lowercase, and counts the occurrences of each word using the Counter\n",
        "class from the collections module. The user can input any text, and the program will display\n",
        "the word frequencies.\n",
        "\"\"\"\n",
        "\n",
        "from collections import Counter\n",
        "import re\n",
        "\n",
        "\n",
        "def count_word_frequencies(text):\n",
        "    \"\"\"\n",
        "    Counts the frequency of each word in the given text.\n",
        "\n",
        "    Args:\n",
        "        text (str): The input text to analyze.\n",
        "\n",
        "    Returns:\n",
        "        dict: A dictionary where keys are words and values are their respective frequencies.\n",
        "    \"\"\"\n",
        "    # Replace punctuation with spaces (except apostrophes within words)\n",
        "    cleaned_text = re.sub(r\"[^\\w\\s']\", ' ', text)\n",
        "\n",
        "    # Convert to lowercase and split into words\n",
        "    words = cleaned_text.lower().split()\n",
        "\n",
        "    # Count word frequencies using Counter\n",
        "    return dict(Counter(words))\n",
        "\n",
        "\n",
        "# Allow user to input text dynamically\n",
        "text = input(\"Enter your text: \").strip()  # Remove leading/trailing spaces\n",
        "\n",
        "# Calculate word frequencies\n",
        "word_frequencies = count_word_frequencies(text)\n",
        "\n",
        "print(\"Word Frequencies:\", word_frequencies)"
      ],
      "metadata": {
        "colab": {
          "base_uri": "https://localhost:8080/"
        },
        "id": "2Dv44vPoCQLB",
        "outputId": "89022159-926f-4a59-8388-d7e4661b71f2"
      },
      "execution_count": 28,
      "outputs": [
        {
          "output_type": "stream",
          "name": "stdout",
          "text": [
            "Enter your text: what is your name?what's you age?\n",
            "Word Frequencies: {'what': 1, 'is': 1, 'your': 1, 'name': 1, \"what's\": 1, 'you': 1, 'age': 1}\n"
          ]
        }
      ]
    },
    {
      "cell_type": "markdown",
      "source": [
        "\n",
        "\n",
        "---\n",
        "\n",
        "\n",
        "# **6. Write a Python function that takes a sequence of numbers and determines whether all the numbers are different from each other.**\n",
        "\n",
        "\n",
        "---\n",
        "\n"
      ],
      "metadata": {
        "id": "3Ud0BvfTDoyc"
      }
    },
    {
      "cell_type": "code",
      "source": [
        "\"\"\"\n",
        "This program checks if all numbers in a given list are unique. The user enters numbers\n",
        "separated by commas, and the program determines whether all numbers are unique or if there\n",
        "are duplicates.\n",
        "\"\"\"\n",
        "\n",
        "def are_all_unique(numbers):\n",
        "    \"\"\"\n",
        "    Checks if all numbers in a list are unique.\n",
        "\n",
        "    Args:\n",
        "        numbers (list): A list of integers to check for uniqueness.\n",
        "\n",
        "    Returns:\n",
        "        bool: True if all numbers are unique, False otherwise.\n",
        "    \"\"\"\n",
        "    # Check if the length of the list matches the length of the set\n",
        "    return len(numbers) == len(set(numbers))\n",
        "\n",
        "\n",
        "# Allow user to input numbers dynamically\n",
        "user_input = input(\"Enter numbers separated by commas (e.g., 1, 2, 3, 4): \").strip()\n",
        "\n",
        "try:\n",
        "    # Convert the input string into a list of integers\n",
        "    numbers = [int(num.strip()) for num in user_input.split(\",\")]\n",
        "\n",
        "    # Check if all numbers are unique\n",
        "    result = are_all_unique(numbers)\n",
        "\n",
        "    # Print the result\n",
        "    if result:\n",
        "        print(\"All numbers are unique.\")\n",
        "    else:\n",
        "        print(\"There are duplicate numbers.\")\n",
        "\n",
        "except ValueError:\n",
        "    print(\"Invalid input. Please enter numbers separated by commas.\")"
      ],
      "metadata": {
        "colab": {
          "base_uri": "https://localhost:8080/"
        },
        "id": "kamlWX3fDuip",
        "outputId": "5172af9f-ad81-4039-de64-89ab6a84ac0d"
      },
      "execution_count": 30,
      "outputs": [
        {
          "output_type": "stream",
          "name": "stdout",
          "text": [
            "Enter numbers separated by commas (e.g., 1, 2, 3, 4): 1,3,5,6,8\n",
            "All numbers are unique.\n"
          ]
        }
      ]
    },
    {
      "cell_type": "markdown",
      "source": [
        "\n",
        "---\n",
        "\n",
        "\n",
        "# **7. Write a Python program to extract the year, month, date and time using Lambda. Input: 2020-01-15 09:03:32.744178**\n",
        "\n",
        "\n",
        "---\n",
        "\n"
      ],
      "metadata": {
        "id": "rv3THBkXFMvB"
      }
    },
    {
      "cell_type": "code",
      "source": [
        "\"\"\"\n",
        "This program extracts the year, month, date, and time from a datetime string provided by the user.\n",
        "The expected format is 'YYYY-MM-DD HH:mm:SS.ssssss'. If the input format is invalid, an error\n",
        "message is displayed.\n",
        "\"\"\"\n",
        "\n",
        "# Lambda function to extract year, month, date, and time\n",
        "result = lambda s: (\n",
        "    s.split()[0].split('-')[0],  # Year\n",
        "    s.split()[0].split('-')[1],  # Month\n",
        "    s.split()[0].split('-')[2],  # Date\n",
        "    s.split()[1]                 # Time\n",
        ")\n",
        "\n",
        "# Allow user to input a datetime string\n",
        "input_str = input(\"Enter a datetime string in the format 'YYYY-MM-DD HH:mm:SS.ssssss': \").strip()\n",
        "\n",
        "# Extract components using the lambda function\n",
        "try:\n",
        "    year, month, date, time = result(input_str)\n",
        "\n",
        "    print(f\"Year: {year}\")\n",
        "    print(f\"Month: {month}\")\n",
        "    print(f\"Date: {date}\")\n",
        "    print(f\"Time: {time}\")\n",
        "\n",
        "except IndexError:\n",
        "    print(\"Invalid input format. Please enter the datetime string in the correct format.\")"
      ],
      "metadata": {
        "colab": {
          "base_uri": "https://localhost:8080/"
        },
        "id": "HgJcFqcFFMbN",
        "outputId": "4a3c6e67-95e9-4d53-b7f4-66cfb13657cd"
      },
      "execution_count": 22,
      "outputs": [
        {
          "output_type": "stream",
          "name": "stdout",
          "text": [
            "Enter a datetime string in the format 'YYYY-MM-DD HH:mm:SS.ssssss': 2024-12-12 12:21:33.980\n",
            "Year: 2024\n",
            "Month: 12\n",
            "Date: 12\n",
            "Time: 12:21:33.980\n"
          ]
        }
      ]
    }
  ]
}