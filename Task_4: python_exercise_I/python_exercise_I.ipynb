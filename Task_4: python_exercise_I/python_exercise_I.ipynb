{
  "nbformat": 4,
  "nbformat_minor": 0,
  "metadata": {
    "colab": {
      "provenance": []
    },
    "kernelspec": {
      "name": "python3",
      "display_name": "Python 3"
    },
    "language_info": {
      "name": "python"
    }
  },
  "cells": [
    {
      "cell_type": "markdown",
      "source": [
        "# **1. Write a Python function that takes a list of words and returns a new list with all words that start with a vowel.**\n",
        "\n",
        "---\n",
        "\n"
      ],
      "metadata": {
        "id": "aaGRB6X6vjiP"
      }
    },
    {
      "cell_type": "code",
      "execution_count": 1,
      "metadata": {
        "colab": {
          "base_uri": "https://localhost:8080/"
        },
        "id": "hV9zLuUwvQ9J",
        "outputId": "0e103774-a327-497b-8bee-7b2e422d8399"
      },
      "outputs": [
        {
          "output_type": "stream",
          "name": "stdout",
          "text": [
            "Words starting with a vowel: ['Arun', 'Eshwar', 'Uma']\n"
          ]
        }
      ],
      "source": [
        "def filter_vowel_words(words):\n",
        "    vowels = ('a', 'e', 'i', 'o', 'u')\n",
        "    return [word for word in words if word.lower().startswith(vowels)]\n",
        "\n",
        "words_list = ['Chiru', 'Arun', 'Eshwar', 'Sharu', 'Uma']\n",
        "final_words = filter_vowel_words(words_list)\n",
        "print(\"Words starting with a vowel:\", final_words)"
      ]
    },
    {
      "cell_type": "markdown",
      "source": [
        "\n",
        "\n",
        "---\n",
        "\n",
        "\n",
        "# **2. Create a Python program to calculate the factorial of a given number.**\n",
        "\n",
        "---\n",
        "\n"
      ],
      "metadata": {
        "id": "leG_xIjryXqd"
      }
    },
    {
      "cell_type": "markdown",
      "source": [
        "# **Iterative approach**"
      ],
      "metadata": {
        "id": "i5rSl08wyr6X"
      }
    },
    {
      "cell_type": "code",
      "source": [
        "def factorial(n):\n",
        "    if n < 0:\n",
        "        return \"Factorial is not defined for negative numbers.\"\n",
        "    result = 1\n",
        "    for i in range(1, n + 1):\n",
        "        result *= i\n",
        "    return result\n",
        "\n",
        "print(\"Iterative Result :\", factorial(5))"
      ],
      "metadata": {
        "colab": {
          "base_uri": "https://localhost:8080/"
        },
        "id": "XgveOsIly9zZ",
        "outputId": "1b5b790a-02dc-4f60-e966-b897deee4f10"
      },
      "execution_count": 2,
      "outputs": [
        {
          "output_type": "stream",
          "name": "stdout",
          "text": [
            "Iterative Result : 120\n"
          ]
        }
      ]
    },
    {
      "cell_type": "markdown",
      "source": [
        "\n",
        "\n",
        "---\n",
        "\n"
      ],
      "metadata": {
        "id": "oj0OfwAECeLS"
      }
    },
    {
      "cell_type": "markdown",
      "source": [
        "# **recursive approach**"
      ],
      "metadata": {
        "id": "mne8YWDzyjyY"
      }
    },
    {
      "cell_type": "code",
      "source": [
        "def factorial(n):\n",
        "    if n < 0:\n",
        "        return \"Factorial is not defined for negative numbers.\"\n",
        "    if n == 0 or n == 1:\n",
        "        return 1\n",
        "    return n * factorial(n - 1)\n",
        "\n",
        "\n",
        "print(\"Recursive Result :\", factorial(5))"
      ],
      "metadata": {
        "colab": {
          "base_uri": "https://localhost:8080/"
        },
        "id": "NEDxeKF5y-1v",
        "outputId": "6edc8f26-884b-4286-a36c-581ff76b9f03"
      },
      "execution_count": 3,
      "outputs": [
        {
          "output_type": "stream",
          "name": "stdout",
          "text": [
            "Recursive Result : 120\n"
          ]
        }
      ]
    },
    {
      "cell_type": "markdown",
      "source": [
        "\n",
        "\n",
        "---\n",
        "\n"
      ],
      "metadata": {
        "id": "uszIXz9JCiz1"
      }
    },
    {
      "cell_type": "markdown",
      "source": [
        "# **3. Write a Python program to create a dictionary of student names and grades, and count the number of students with grades above 90.**"
      ],
      "metadata": {
        "id": "yEhW1RkF0CDD"
      }
    },
    {
      "cell_type": "code",
      "source": [
        "\n",
        "def count_top_students(grades):\n",
        "    toppers = {}\n",
        "    for name, grade in grades.items():\n",
        "        if grade > 90:\n",
        "            toppers[name] = grade\n",
        "    return len(toppers), toppers\n",
        "\n",
        "\n",
        "student_grades = {\n",
        "    \"Suzal\": 95,\n",
        "    \"Chiru\": 88,\n",
        "    \"Raj\": 92,\n",
        "    \"Sharath\": 76,\n",
        "    \"Viggu\": 97\n",
        "}\n",
        "\n",
        "count, toppers = count_top_students(student_grades)\n",
        "\n",
        "print(f\"Number of students with grades above 90: {count}\")\n",
        "print(\"Students with grades above 90:\", toppers)"
      ],
      "metadata": {
        "colab": {
          "base_uri": "https://localhost:8080/"
        },
        "id": "gST3ont90JYl",
        "outputId": "32a2d2d1-9f6a-4c68-8b49-2c6133ea8970"
      },
      "execution_count": 4,
      "outputs": [
        {
          "output_type": "stream",
          "name": "stdout",
          "text": [
            "Number of students with grades above 90: 3\n",
            "Students with grades above 90: {'Suzal': 95, 'Raj': 92, 'Viggu': 97}\n"
          ]
        }
      ]
    },
    {
      "cell_type": "markdown",
      "source": [
        "\n",
        "\n",
        "---\n",
        "\n",
        "\n",
        "## **4. Write a Python function to determine whether a given string is a palindrome**\n",
        "\n",
        "\n",
        "---\n",
        "\n"
      ],
      "metadata": {
        "id": "UzcRuFzY5Vbw"
      }
    },
    {
      "cell_type": "code",
      "source": [
        "def is_palindrome(s):\n",
        "    s = s.lower().replace(\" \", \"\")\n",
        "    return s == s[::-1]\n",
        "\n",
        "# Example usage\n",
        "print(is_palindrome(\"Chiruurihc\"))\n",
        "print(is_palindrome(\"Hello\"))"
      ],
      "metadata": {
        "colab": {
          "base_uri": "https://localhost:8080/"
        },
        "id": "EyDA9w5W5Qfw",
        "outputId": "3151226a-32ef-4cc0-ec5d-1c20b34f6a87"
      },
      "execution_count": 5,
      "outputs": [
        {
          "output_type": "stream",
          "name": "stdout",
          "text": [
            "True\n",
            "False\n"
          ]
        }
      ]
    },
    {
      "cell_type": "markdown",
      "source": [
        "\n",
        "\n",
        "---\n",
        "\n",
        "\n",
        "# **5. Write a Python program that takes a text input and counts the frequency of each word. Display the result in a dictionary format**\n",
        "\n",
        "\n",
        "---\n",
        "\n"
      ],
      "metadata": {
        "id": "M-61Ubn1CPwL"
      }
    },
    {
      "cell_type": "code",
      "source": [
        "from collections import Counter\n",
        "\n",
        "def count_word_frequencies(text):\n",
        "    words = text.lower().split()\n",
        "    return dict(Counter(words))\n",
        "\n",
        "text = \"Hello Good Morning. Send me the good morning message on whatsapp.Good people always wish good morning\"\n",
        "word_frequencies = count_word_frequencies(text)\n",
        "print(\"Word Frequencies:\", word_frequencies)"
      ],
      "metadata": {
        "colab": {
          "base_uri": "https://localhost:8080/"
        },
        "id": "2Dv44vPoCQLB",
        "outputId": "c86b6bd5-77ae-4b51-b2ba-b25551a8e76b"
      },
      "execution_count": 6,
      "outputs": [
        {
          "output_type": "stream",
          "name": "stdout",
          "text": [
            "Word Frequencies: {'hello': 1, 'good': 3, 'morning.': 1, 'send': 1, 'me': 1, 'the': 1, 'morning': 2, 'message': 1, 'on': 1, 'whatsapp.good': 1, 'people': 1, 'always': 1, 'wish': 1}\n"
          ]
        }
      ]
    },
    {
      "cell_type": "markdown",
      "source": [
        "\n",
        "\n",
        "---\n",
        "\n",
        "\n",
        "# **6. Write a Python function that takes a sequence of numbers and determines whether all the numbers are different from each other.**\n",
        "\n",
        "\n",
        "---\n",
        "\n"
      ],
      "metadata": {
        "id": "3Ud0BvfTDoyc"
      }
    },
    {
      "cell_type": "code",
      "source": [
        "def are_all_unique(numbers):\n",
        "    return len(numbers) == len(set(numbers))\n",
        "\n",
        "print(are_all_unique([1, 2, 3, 4, 5]))\n"
      ],
      "metadata": {
        "colab": {
          "base_uri": "https://localhost:8080/"
        },
        "id": "kamlWX3fDuip",
        "outputId": "6a50a351-ecbc-4420-e50a-136d61fb2d4a"
      },
      "execution_count": 7,
      "outputs": [
        {
          "output_type": "stream",
          "name": "stdout",
          "text": [
            "True\n"
          ]
        }
      ]
    },
    {
      "cell_type": "markdown",
      "source": [
        "\n",
        "---\n",
        "\n",
        "\n",
        "# **7. Write a Python program to extract the year, month, date and time using Lambda. Input: 2020-01-15 09:03:32.744178**\n",
        "\n",
        "\n",
        "---\n",
        "\n"
      ],
      "metadata": {
        "id": "rv3THBkXFMvB"
      }
    },
    {
      "cell_type": "code",
      "source": [
        "\n",
        "input_str = \"2020-01-15 09:03:32.744178\"\n",
        "\n",
        "result = lambda s: (\n",
        "    s.split()[0].split('-')[0],\n",
        "    s.split()[0].split('-')[1],\n",
        "    s.split()[0].split('-')[2],\n",
        "    s.split()[1]\n",
        ")\n",
        "\n",
        "year, month, date, time = result(input_str)\n",
        "\n",
        "print(f\"Year: {year}\")\n",
        "print(f\"Month: {month}\")\n",
        "print(f\"Date: {date}\")\n",
        "print(f\"Time: {time}\")"
      ],
      "metadata": {
        "colab": {
          "base_uri": "https://localhost:8080/"
        },
        "id": "HgJcFqcFFMbN",
        "outputId": "88afaf52-48f5-41e6-8231-acf1677b813a"
      },
      "execution_count": 8,
      "outputs": [
        {
          "output_type": "stream",
          "name": "stdout",
          "text": [
            "Year: 2020\n",
            "Month: 01\n",
            "Date: 15\n",
            "Time: 09:03:32.744178\n"
          ]
        }
      ]
    }
  ]
}